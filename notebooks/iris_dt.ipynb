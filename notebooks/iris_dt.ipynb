{
 "cells": [
  {
   "cell_type": "markdown",
   "metadata": {},
   "source": [
    "# Iris Dataset Example - Decision Tree"
   ]
  },
  {
   "cell_type": "code",
   "execution_count": 1,
   "metadata": {},
   "outputs": [
    {
     "name": "stdout",
     "output_type": "stream",
     "text": [
      "Requirement already satisfied: skl2onnx==1.9.0 in /home/ec2-user/anaconda3/envs/python3/lib/python3.6/site-packages (1.9.0)\n",
      "Requirement already satisfied: scipy>=1.0 in /home/ec2-user/anaconda3/envs/python3/lib/python3.6/site-packages (from skl2onnx==1.9.0) (1.5.3)\n",
      "Requirement already satisfied: onnx>=1.2.1 in /home/ec2-user/anaconda3/envs/python3/lib/python3.6/site-packages (from skl2onnx==1.9.0) (1.10.1)\n",
      "Requirement already satisfied: onnxconverter-common>=1.6.1 in /home/ec2-user/anaconda3/envs/python3/lib/python3.6/site-packages (from skl2onnx==1.9.0) (1.12.2)\n",
      "Requirement already satisfied: scikit-learn>=0.19 in /home/ec2-user/anaconda3/envs/python3/lib/python3.6/site-packages (from skl2onnx==1.9.0) (0.24.1)\n",
      "Requirement already satisfied: protobuf in /home/ec2-user/anaconda3/envs/python3/lib/python3.6/site-packages (from skl2onnx==1.9.0) (3.15.2)\n",
      "Requirement already satisfied: numpy>=1.15 in /home/ec2-user/anaconda3/envs/python3/lib/python3.6/site-packages (from skl2onnx==1.9.0) (1.19.5)\n",
      "Requirement already satisfied: six in /home/ec2-user/anaconda3/envs/python3/lib/python3.6/site-packages (from onnx>=1.2.1->skl2onnx==1.9.0) (1.15.0)\n",
      "Requirement already satisfied: typing-extensions>=3.6.2.1 in /home/ec2-user/anaconda3/envs/python3/lib/python3.6/site-packages (from onnx>=1.2.1->skl2onnx==1.9.0) (4.0.1)\n",
      "Requirement already satisfied: threadpoolctl>=2.0.0 in /home/ec2-user/anaconda3/envs/python3/lib/python3.6/site-packages (from scikit-learn>=0.19->skl2onnx==1.9.0) (2.1.0)\n",
      "Requirement already satisfied: joblib>=0.11 in /home/ec2-user/anaconda3/envs/python3/lib/python3.6/site-packages (from scikit-learn>=0.19->skl2onnx==1.9.0) (1.0.1)\n",
      "Requirement already satisfied: onnx==1.10.1 in /home/ec2-user/anaconda3/envs/python3/lib/python3.6/site-packages (1.10.1)\n",
      "Requirement already satisfied: numpy>=1.16.6 in /home/ec2-user/anaconda3/envs/python3/lib/python3.6/site-packages (from onnx==1.10.1) (1.19.5)\n",
      "Requirement already satisfied: six in /home/ec2-user/anaconda3/envs/python3/lib/python3.6/site-packages (from onnx==1.10.1) (1.15.0)\n",
      "Requirement already satisfied: typing-extensions>=3.6.2.1 in /home/ec2-user/anaconda3/envs/python3/lib/python3.6/site-packages (from onnx==1.10.1) (4.0.1)\n",
      "Requirement already satisfied: protobuf in /home/ec2-user/anaconda3/envs/python3/lib/python3.6/site-packages (from onnx==1.10.1) (3.15.2)\n",
      "Requirement already satisfied: onnxruntime==1.8.1 in /home/ec2-user/anaconda3/envs/python3/lib/python3.6/site-packages (1.8.1)\n",
      "Requirement already satisfied: numpy>=1.16.6 in /home/ec2-user/anaconda3/envs/python3/lib/python3.6/site-packages (from onnxruntime==1.8.1) (1.19.5)\n",
      "Requirement already satisfied: protobuf in /home/ec2-user/anaconda3/envs/python3/lib/python3.6/site-packages (from onnxruntime==1.8.1) (3.15.2)\n",
      "Requirement already satisfied: flatbuffers in /home/ec2-user/anaconda3/envs/python3/lib/python3.6/site-packages (from onnxruntime==1.8.1) (2.0.7)\n",
      "Requirement already satisfied: six>=1.9 in /home/ec2-user/anaconda3/envs/python3/lib/python3.6/site-packages (from protobuf->onnxruntime==1.8.1) (1.15.0)\n"
     ]
    }
   ],
   "source": [
    "import sys\n",
    "\n",
    "!{sys.executable} -m pip install skl2onnx==1.9.0\n",
    "!{sys.executable} -m pip install onnx==1.10.1\n",
    "!{sys.executable} -m pip install onnxruntime==1.8.1"
   ]
  },
  {
   "cell_type": "code",
   "execution_count": 3,
   "metadata": {},
   "outputs": [
    {
     "name": "stdout",
     "output_type": "stream",
     "text": [
      "0.9736842105263158\n"
     ]
    }
   ],
   "source": [
    "from skl2onnx import to_onnx\n",
    "from skl2onnx.common.data_types import FloatTensorType\n",
    "from sklearn.datasets import load_iris\n",
    "from sklearn.tree import DecisionTreeClassifier\n",
    "from sklearn.metrics import accuracy_score\n",
    "from sklearn.model_selection import train_test_split\n",
    "from sklearn.pipeline import make_pipeline\n",
    "from sklearn.preprocessing import StandardScaler\n",
    "\n",
    "import onnxruntime as rt\n",
    "import numpy as np\n",
    "\n",
    "# create a pipeline object\n",
    "pipe = make_pipeline(\n",
    "    StandardScaler(),\n",
    "    DecisionTreeClassifier()\n",
    ")\n",
    "\n",
    "# load the iris dataset and split it into train and test sets\n",
    "X, y = load_iris(return_X_y=True)\n",
    "X_train, X_test, y_train, y_test = train_test_split(X, y, random_state=0)\n",
    "\n",
    "# fit the whole pipeline\n",
    "pipe.fit(X_train, y_train)\n",
    "\n",
    "# we can now use it like any other estimator\n",
    "print(accuracy_score(pipe.predict(X_test), y_test))\n",
    "\n",
    "onxx_pipeline = to_onnx(pipe, initial_types=[('sepalLength', FloatTensorType([None, 1])),\n",
    "                                             ('sepalWidth', FloatTensorType([None, 1])),\n",
    "                                             ('petalLength', FloatTensorType([None, 1])),\n",
    "                                             ('petalWidth', FloatTensorType([None, 1]))])\n",
    "\n",
    "with open(\"iris_dt.onnx\", \"wb\") as f:\n",
    "    f.write(onxx_pipeline.SerializeToString())"
   ]
  },
  {
   "cell_type": "code",
   "execution_count": 4,
   "metadata": {},
   "outputs": [],
   "source": [
    "sess = rt.InferenceSession(\"iris_lr.onnx\")\n",
    "inputs = {'sepalLength': [[5.0]], 'sepalWidth': [[3.5]], 'petalLength': [[4.0]], 'petalWidth': [[5.0]]}\n",
    "\n",
    "pred_onx = sess.run(None, inputs)"
   ]
  },
  {
   "cell_type": "code",
   "execution_count": 5,
   "metadata": {},
   "outputs": [
    {
     "name": "stdout",
     "output_type": "stream",
     "text": [
      "prediction [2]\n",
      "probabilites [{0: 1.3849917479547003e-07, 1: 6.7487194428395014e-06, 2: 0.999993085861206}]\n"
     ]
    }
   ],
   "source": [
    "print(\"prediction\", pred_onx[0])\n",
    "print(\"probabilites\", pred_onx[1])"
   ]
  },
  {
   "cell_type": "code",
   "execution_count": null,
   "metadata": {},
   "outputs": [],
   "source": []
  }
 ],
 "metadata": {
  "kernelspec": {
   "display_name": "conda_python3",
   "language": "python",
   "name": "conda_python3"
  },
  "language_info": {
   "codemirror_mode": {
    "name": "ipython",
    "version": 3
   },
   "file_extension": ".py",
   "mimetype": "text/x-python",
   "name": "python",
   "nbconvert_exporter": "python",
   "pygments_lexer": "ipython3",
   "version": "3.6.13"
  }
 },
 "nbformat": 4,
 "nbformat_minor": 4
}
